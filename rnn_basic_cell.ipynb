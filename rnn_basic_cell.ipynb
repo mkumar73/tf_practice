{
 "cells": [
  {
   "cell_type": "code",
   "execution_count": null,
   "metadata": {
    "collapsed": true
   },
   "outputs": [],
   "source": [
    "import  tensorflow as tf\n",
    "\n",
    "from tensorflow_graph_in_jupyter import show_graph\n",
    "\n",
    "\n"
   ]
  },
  {
   "cell_type": "code",
   "execution_count": null,
   "metadata": {},
   "outputs": [],
   "source": [
    "tf.reset_default_graph()\n",
    "\n",
    "n_steps = 3\n",
    "n_inputs = 3\n",
    "n_neurons = 5\n",
    "\n",
    "g1 = tf.Graph()\n",
    "with g1.as_default() as g1:\n",
    "    X = tf.placeholder(dtype=tf.float32, shape=[None, n_steps, n_inputs])\n",
    "    X_seqs = tf.unstack(tf.transpose(X, perm=[1,0,2]))\n",
    "\n",
    "    basic_rnn_cell = tf.contrib.rnn.BasicRNNCell(num_units=n_neurons)\n",
    "    output_seq, cell_state = tf.contrib.rnn.static_rnn(basic_rnn_cell, X_seqs, dtype=tf.float32)\n",
    "\n",
    "    output = tf.transpose(tf.stack(output_seq), perm=[1,0,2])\n",
    "\n",
    "    init = tf.global_variables_initializer()\n",
    "    X_batch = np.array([\n",
    "        # t = 0      # t = 1    # t = 3\n",
    "        [[0, 1, 2], [9, 8, 7], [2, 3, 4]], # instance = 1\n",
    "        [[3, 4, 5], [0, 0, 0], [6, 7, 9]], # instance = 1\n",
    "        [[6, 7, 8], [6, 5, 4], [5, 7, 8]], # instance = 1\n",
    "        [[9, 0, 1], [3, 2, 1], [1, 2, 1]]  # instance = 1\n",
    "    ])\n",
    "\n",
    "\n",
    "with tf.Session(graph=g1) as session:\n",
    "    init.run()\n",
    "    Output_val = session.run(output, feed_dict={X: X_batch})\n",
    "\n",
    "print('----------------------------------')\n",
    "print('Output_val for the packaged inputs:\\n',Output_val)\n",
    "print('Shape of Output_val:\\n', Output_val.shape)\n",
    "print()"
   ]
  },
  {
   "cell_type": "code",
   "execution_count": null,
   "metadata": {},
   "outputs": [],
   "source": [
    "show_graph(graph_def=g1)"
   ]
  }
 ],
 "metadata": {
  "kernelspec": {
   "display_name": "Python 2",
   "language": "python",
   "name": "python2"
  },
  "language_info": {
   "codemirror_mode": {
    "name": "ipython",
    "version": 2
   },
   "file_extension": ".py",
   "mimetype": "text/x-python",
   "name": "python",
   "nbconvert_exporter": "python",
   "pygments_lexer": "ipython2",
   "version": "2.7.6"
  }
 },
 "nbformat": 4,
 "nbformat_minor": 0
}
